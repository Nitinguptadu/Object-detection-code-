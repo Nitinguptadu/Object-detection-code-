{
 "cells": [
  {
   "cell_type": "code",
   "execution_count": 2,
   "metadata": {},
   "outputs": [],
   "source": [
    "import cv2"
   ]
  },
  {
   "cell_type": "code",
   "execution_count": null,
   "metadata": {},
   "outputs": [
    {
     "name": "stdout",
     "output_type": "stream",
     "text": [
      "<class 'numpy.ndarray'>\n",
      "[[ 467  621   30   30]\n",
      " [ 691  719  635  635]\n",
      " [ 115 2004  104  104]\n",
      " [ 200 2115   29   29]\n",
      " [ 402 2489   50   50]\n",
      " [ 350 2402   84   84]\n",
      " [  51 2584   27   27]\n",
      " [ 389 2513   84   84]]\n"
     ]
    }
   ],
   "source": [
    "# create a cascadeClassifier object \n",
    "face_cascade = cv2.CascadeClassifier(\"haarcascade_frontalface_default.xml\")\n",
    "\n",
    "# Reading the image as it is\n",
    "img = cv2.imread(\"arms-crossed-confident-facial-expression-2379004.jpg\",1) # 1 for colour image  \n",
    "\n",
    "# Reading the image as a gray scale image\n",
    "gray_img = cv2.cvtColor(img,cv2.COLOR_BGR2GRAY)\n",
    "\n",
    "# Search the co-ordintes of the image \n",
    "faces = face_cascade.detectMultiScale(gray_img,scaleFactor = 1.05,minNeighbors =5)\n",
    "print(type(faces))\n",
    "print(faces)\n",
    "\n",
    "for x,y,w,h in faces:\n",
    "    img = cv2.rectangle(img,(x,y),(x+w,y+h),(0,255,0),3)\n",
    "\n",
    "resize_image = cv2.resize(img,(int(img.shape[1]/4),int(img.shape[0]/4)))\n",
    "    \n",
    "cv2.imshow(\"Gray\",resize_image)\n",
    "\n",
    "cv2.waitKey(0)\n",
    "\n",
    "cv2.destroyAllWindows()\n",
    "\n"
   ]
  },
  {
   "cell_type": "code",
   "execution_count": 4,
   "metadata": {},
   "outputs": [
    {
     "name": "stdout",
     "output_type": "stream",
     "text": [
      "<class 'numpy.ndarray'>\n",
      "[[700 735 615 615]]\n"
     ]
    }
   ],
   "source": [
    "# create a cascadeClassifier object \n",
    "face_cascade = cv2.CascadeClassifier(\"haarcascade_frontalface_alt2.xml\")\n",
    "\n",
    "# Reading the image as it is\n",
    "img = cv2.imread(\"arms-crossed-confident-facial-expression-2379004.jpg\",1) # 1 for colour image  \n",
    "\n",
    "# Reading the image as a gray scale image\n",
    "gray_img = cv2.cvtColor(img,cv2.COLOR_BGR2GRAY)\n",
    "\n",
    "# Search the co-ordintes of the image \n",
    "faces = face_cascade.detectMultiScale(gray_img,scaleFactor = 1.05,minNeighbors =5)\n",
    "print(type(faces))\n",
    "print(faces)\n",
    "\n",
    "for x,y,w,h in faces:\n",
    "    img = cv2.rectangle(img,(x,y),(x+w,y+h),(0,255,0),3)\n",
    "\n",
    "resize_image = cv2.resize(img,(int(img.shape[1]/4),int(img.shape[0]/4)))\n",
    "    \n",
    "cv2.imshow(\"Gray\",resize_image)\n",
    "\n",
    "cv2.waitKey(0)\n",
    "\n",
    "cv2.destroyAllWindows()\n",
    "\n"
   ]
  },
  {
   "cell_type": "code",
   "execution_count": null,
   "metadata": {},
   "outputs": [],
   "source": [
    "# create a cascadeClassifier object \n",
    "face_cascade = cv2.CascadeClassifier(\"haarcascade_frontalface_alt2.xml\")\n",
    "\n",
    "# Reading the image as it is\n",
    "img = cv2.imread(\"arms-crossed-confident-facial-expression-2379004.jpg\",1) # 1 for colour image  \n",
    "\n",
    "# Reading the image as a gray scale image\n",
    "gray_img = cv2.cvtColor(img,cv2.COLOR_BGR2GRAY)\n",
    "\n",
    "# Search the co-ordintes of the image \n",
    "faces = face_cascade.detectMultiScale(gray_img,scaleFactor = 1.05,minNeighbors =5)\n",
    "print(type(faces))\n",
    "print(faces)\n",
    "\n",
    "for x,y,w,h in faces:\n",
    "    img = cv2.rectangle(img,(x,y),(x+w,y+h),(0,255,0),3)\n",
    "\n",
    "resize_image = cv2.resize(img,(int(img.shape[1]/4),int(img.shape[0]/4)))\n",
    "    \n",
    "cv2.imshow(\"Gray\",resize_image)\n",
    "\n",
    "cv2.waitKey(0)\n",
    "\n",
    "cv2.destroyAllWindows()\n",
    "\n"
   ]
  },
  {
   "cell_type": "code",
   "execution_count": 5,
   "metadata": {},
   "outputs": [
    {
     "name": "stdout",
     "output_type": "stream",
     "text": [
      "<class 'numpy.ndarray'>\n",
      "[[1260  778   39   78]\n",
      " [1038 1183   31   61]]\n"
     ]
    }
   ],
   "source": [
    "# create a cascadeClassifier object \n",
    "face_cascade = cv2.CascadeClassifier(\"haarcascade_fullbody.xml\")\n",
    "\n",
    "# Reading the image as it is\n",
    "img = cv2.imread(\"arms-crossed-confident-facial-expression-2379004.jpg\",1) # 1 for colour image  \n",
    "\n",
    "# Reading the image as a gray scale image\n",
    "gray_img = cv2.cvtColor(img,cv2.COLOR_BGR2GRAY)\n",
    "\n",
    "# Search the co-ordintes of the image \n",
    "faces = face_cascade.detectMultiScale(gray_img,scaleFactor = 1.05,minNeighbors =5)\n",
    "print(type(faces))\n",
    "print(faces)\n",
    "\n",
    "for x,y,w,h in faces:\n",
    "    img = cv2.rectangle(img,(x,y),(x+w,y+h),(0,255,0),3)\n",
    "\n",
    "resize_image = cv2.resize(img,(int(img.shape[1]/4),int(img.shape[0]/4)))\n",
    "    \n",
    "cv2.imshow(\"Gray\",resize_image)\n",
    "\n",
    "cv2.waitKey(0)\n",
    "\n",
    "cv2.destroyAllWindows()\n",
    "\n"
   ]
  },
  {
   "cell_type": "code",
   "execution_count": 3,
   "metadata": {},
   "outputs": [
    {
     "name": "stdout",
     "output_type": "stream",
     "text": [
      "<class 'tuple'>\n",
      "()\n"
     ]
    }
   ],
   "source": [
    "# create a cascadeClassifier object \n",
    "face_cascade = cv2.CascadeClassifier(\"haarcascade_upperbody.xml\")\n",
    "\n",
    "# Reading the image as it is\n",
    "img = cv2.imread(\"arms-crossed-confident-facial-expression-2379004.jpg\",1) # 1 for colour image  \n",
    "\n",
    "# Reading the image as a gray scale image\n",
    "gray_img = cv2.cvtColor(img,cv2.COLOR_BGR2GRAY)\n",
    "\n",
    "# Search the co-ordintes of the image \n",
    "faces = face_cascade.detectMultiScale(gray_img,scaleFactor = 1.05,minNeighbors =5)\n",
    "print(type(faces))\n",
    "print(faces)\n",
    "\n",
    "for x,y,w,h in faces:\n",
    "    img = cv2.rectangle(img,(x,y),(x+w,y+h),(0,255,0),3)\n",
    "\n",
    "resize_image = cv2.resize(img,(int(img.shape[1]/4),int(img.shape[0]/4)))\n",
    "    \n",
    "cv2.imshow(\"Gray\",resize_image)\n",
    "\n",
    "cv2.waitKey(0)\n",
    "\n",
    "cv2.destroyAllWindows()\n",
    "\n"
   ]
  },
  {
   "cell_type": "code",
   "execution_count": null,
   "metadata": {},
   "outputs": [],
   "source": []
  }
 ],
 "metadata": {
  "kernelspec": {
   "display_name": "Python 3",
   "language": "python",
   "name": "python3"
  },
  "language_info": {
   "codemirror_mode": {
    "name": "ipython",
    "version": 3
   },
   "file_extension": ".py",
   "mimetype": "text/x-python",
   "name": "python",
   "nbconvert_exporter": "python",
   "pygments_lexer": "ipython3",
   "version": "3.7.1"
  }
 },
 "nbformat": 4,
 "nbformat_minor": 2
}
